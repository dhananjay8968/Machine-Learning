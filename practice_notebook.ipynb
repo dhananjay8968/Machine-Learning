{
  "nbformat": 4,
  "nbformat_minor": 0,
  "metadata": {
    "colab": {
      "name": "practice-notebook.ipynb",
      "provenance": [],
      "authorship_tag": "ABX9TyM4y+RmlJ9uGc/80hfJ/X6s",
      "include_colab_link": true
    },
    "kernelspec": {
      "name": "python3",
      "display_name": "Python 3"
    },
    "language_info": {
      "name": "python"
    }
  },
  "cells": [
    {
      "cell_type": "markdown",
      "metadata": {
        "id": "view-in-github",
        "colab_type": "text"
      },
      "source": [
        "<a href=\"https://colab.research.google.com/github/hyturing/Machine-Learning/blob/main/practice_notebook.ipynb\" target=\"_parent\"><img src=\"https://colab.research.google.com/assets/colab-badge.svg\" alt=\"Open In Colab\"/></a>"
      ]
    },
    {
      "cell_type": "code",
      "source": [
        "import numpy as np"
      ],
      "metadata": {
        "id": "RGMTQVS8U7FG"
      },
      "execution_count": 2,
      "outputs": []
    },
    {
      "cell_type": "code",
      "source": [
        "t = np.array([1, 2, 3, 4, 5])\n",
        "print(t)"
      ],
      "metadata": {
        "id": "e4X1rdC8VIhQ",
        "outputId": "839754de-e7e2-45e7-d2c0-3162efb97279",
        "colab": {
          "base_uri": "https://localhost:8080/"
        }
      },
      "execution_count": 3,
      "outputs": [
        {
          "output_type": "stream",
          "name": "stdout",
          "text": [
            "[1 2 3 4 5]\n"
          ]
        }
      ]
    },
    {
      "cell_type": "code",
      "source": [
        "s = 1/(1+np.exp(-t))\n",
        "ds = s*(1-s)"
      ],
      "metadata": {
        "id": "Jml51A-AVNhY"
      },
      "execution_count": 6,
      "outputs": []
    },
    {
      "cell_type": "code",
      "source": [
        "print(ds)"
      ],
      "metadata": {
        "id": "qpH_aSg1VQyw",
        "outputId": "94ae8e70-892a-4865-d856-e4ed2e71e2c3",
        "colab": {
          "base_uri": "https://localhost:8080/"
        }
      },
      "execution_count": 7,
      "outputs": [
        {
          "output_type": "stream",
          "name": "stdout",
          "text": [
            "[0.19661193 0.10499359 0.04517666 0.01766271 0.00664806]\n"
          ]
        }
      ]
    },
    {
      "cell_type": "code",
      "source": [
        "ds.shape"
      ],
      "metadata": {
        "id": "zozGR8D_VyjC",
        "outputId": "b3419611-f67c-45e5-d289-0040e651ee83",
        "colab": {
          "base_uri": "https://localhost:8080/"
        }
      },
      "execution_count": 9,
      "outputs": [
        {
          "output_type": "execute_result",
          "data": {
            "text/plain": [
              "(5,)"
            ]
          },
          "metadata": {},
          "execution_count": 9
        }
      ]
    },
    {
      "cell_type": "code",
      "source": [
        "ds = ds.reshape(5, 1)"
      ],
      "metadata": {
        "id": "3BlX_RKIWcIF"
      },
      "execution_count": 13,
      "outputs": []
    },
    {
      "cell_type": "code",
      "source": [
        "ds.shape"
      ],
      "metadata": {
        "id": "vaDmM95AWrfw",
        "outputId": "1ad51df6-aa47-464f-a712-017500a4f181",
        "colab": {
          "base_uri": "https://localhost:8080/"
        }
      },
      "execution_count": 14,
      "outputs": [
        {
          "output_type": "execute_result",
          "data": {
            "text/plain": [
              "(5, 1)"
            ]
          },
          "metadata": {},
          "execution_count": 14
        }
      ]
    },
    {
      "cell_type": "code",
      "source": [
        "k = ds.shape"
      ],
      "metadata": {
        "id": "Dfy3rBKmYDOL"
      },
      "execution_count": 15,
      "outputs": []
    },
    {
      "cell_type": "code",
      "source": [
        "print(k)"
      ],
      "metadata": {
        "id": "_GgG6_HOYNKT",
        "outputId": "804b62d9-3278-4f7c-e462-0ffa8b41f61f",
        "colab": {
          "base_uri": "https://localhost:8080/"
        }
      },
      "execution_count": 16,
      "outputs": [
        {
          "output_type": "stream",
          "name": "stdout",
          "text": [
            "(5, 1)\n"
          ]
        }
      ]
    },
    {
      "cell_type": "code",
      "source": [
        "print(ds.shape[0])"
      ],
      "metadata": {
        "id": "mkmW1eaBYOZp",
        "outputId": "f704b2c6-d4dd-4408-c9c8-a1731dda1e51",
        "colab": {
          "base_uri": "https://localhost:8080/"
        }
      },
      "execution_count": 17,
      "outputs": [
        {
          "output_type": "stream",
          "name": "stdout",
          "text": [
            "5\n"
          ]
        }
      ]
    },
    {
      "cell_type": "code",
      "source": [
        "import math\n",
        "\n",
        "def norm(x):\n",
        "  sum = 0\n",
        "  for i in range(x.shape[0]):\n",
        "    sum += x[i]*x[i]\n",
        "  sum = math.sqrt(sum)\n",
        "\n",
        "  x = x/sum\n",
        "  return x"
      ],
      "metadata": {
        "id": "HYTCCJMJYSHY"
      },
      "execution_count": 23,
      "outputs": []
    },
    {
      "cell_type": "code",
      "source": [
        "print(norm(ds))"
      ],
      "metadata": {
        "id": "4qFuVCOpY3U_",
        "outputId": "ee3cd202-c17a-4946-ad29-8fc386aa0292",
        "colab": {
          "base_uri": "https://localhost:8080/"
        }
      },
      "execution_count": 24,
      "outputs": [
        {
          "output_type": "stream",
          "name": "stdout",
          "text": [
            "[[0.86156268]\n",
            " [0.4600868 ]\n",
            " [0.19796623]\n",
            " [0.0773988 ]\n",
            " [0.0291321 ]]\n"
          ]
        }
      ]
    },
    {
      "cell_type": "code",
      "source": [
        "x_norm = np.linalg.norm(ds, axis = 1, keepdims = True)\n",
        "print(x_norm)"
      ],
      "metadata": {
        "id": "a15WHb82Y5tC",
        "outputId": "e0af3377-1868-4501-ed5b-a1f8839d0c1f",
        "colab": {
          "base_uri": "https://localhost:8080/"
        }
      },
      "execution_count": 22,
      "outputs": [
        {
          "output_type": "stream",
          "name": "stdout",
          "text": [
            "[[0.19661193]\n",
            " [0.10499359]\n",
            " [0.04517666]\n",
            " [0.01766271]\n",
            " [0.00664806]]\n"
          ]
        }
      ]
    },
    {
      "cell_type": "code",
      "source": [
        "np.linalg.norm(ds, axis = 1, keepdims = True)"
      ],
      "metadata": {
        "id": "KXqDSPieZDo6",
        "outputId": "10cc762d-ba93-4844-fc6b-d748312e1876",
        "colab": {
          "base_uri": "https://localhost:8080/"
        }
      },
      "execution_count": 27,
      "outputs": [
        {
          "output_type": "execute_result",
          "data": {
            "text/plain": [
              "array([[0.19661193],\n",
              "       [0.10499359],\n",
              "       [0.04517666],\n",
              "       [0.01766271],\n",
              "       [0.00664806]])"
            ]
          },
          "metadata": {},
          "execution_count": 27
        }
      ]
    },
    {
      "cell_type": "code",
      "source": [
        ""
      ],
      "metadata": {
        "id": "_RS3nz1PZ7R7"
      },
      "execution_count": null,
      "outputs": []
    }
  ]
}